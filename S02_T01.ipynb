{
 "cells": [
  {
   "cell_type": "markdown",
   "id": "0bafc762",
   "metadata": {},
   "source": [
    "# Nivell 1 - Exercicis 1, 2 i 3"
   ]
  },
  {
   "cell_type": "markdown",
   "id": "41bee23c",
   "metadata": {},
   "source": [
    "> He instal·lat **Anaconda** i he actualitzat la versió de **Python** que tenia.\n",
    "> La versió d'*Anaconda.Navigator* és la **2.0.4**.\n",
    "> La versió de *Python* instal·lada és la **3.9**."
   ]
  },
  {
   "cell_type": "markdown",
   "id": "5be02cd1",
   "metadata": {},
   "source": [
    "##### Versió de Jupyter Notebook en imatge:\n",
    "<img src=\"files/jupyter.png\">"
   ]
  },
  {
   "cell_type": "markdown",
   "id": "8a315caa",
   "metadata": {},
   "source": [
    "#### Alguna coseta amb codi Python"
   ]
  },
  {
   "cell_type": "code",
   "execution_count": 1,
   "id": "95cb0939",
   "metadata": {},
   "outputs": [
    {
     "name": "stdout",
     "output_type": "stream",
     "text": [
      "Marta\n",
      "Pere\n",
      "Ester\n",
      "Critina\n",
      "Núria\n",
      "Narcís\n",
      "\n",
      "Tipus de dada de les variables anteriors:\n",
      "<class 'str'>\n",
      "<class 'int'>\n",
      "<class 'float'>\n",
      "<class 'list'>\n"
     ]
    }
   ],
   "source": [
    "#Creem variables de diferents tipus de dades\n",
    "lloc = \"Visc a la Garrotxa.\"\n",
    "edat = 46\n",
    "pes = 54.3\n",
    "germans = [\"Marta\", \"Pere\", \"Ester\", \"Critina\", \"Núria\", \"Narcís\"]\n",
    "\n",
    "#fem un for a la list germans\n",
    "for nom in germans:\n",
    "    print(nom)\n",
    "\n",
    "print(\"\\nTipus de dada de les variables anteriors:\")\n",
    "print(type(lloc))\n",
    "print(type(edat))\n",
    "print(type(pes))\n",
    "print(type(germans))\n"
   ]
  },
  {
   "cell_type": "code",
   "execution_count": null,
   "id": "2864477d",
   "metadata": {},
   "outputs": [],
   "source": [
    "#Utilitzem un input per obtenir una dada, fer un cast a int i fem una operació matemàtica senzilla\n",
    "mesos = 12\n",
    "edat = int(input(\"Escriu la teva edat en anys: \"))\n",
    "edat_mesos = mesos * edat\n",
    "print(\"Tens {} mesos!\".format(edat_mesos))"
   ]
  },
  {
   "cell_type": "markdown",
   "id": "71a016ff",
   "metadata": {},
   "source": [
    "> En les línies anteriors hem fet:\n",
    "+ Markdown:\n",
    "    + Headers\n",
    "    + text en negreta\n",
    "    + text en cursiva\n",
    "    + Blockquotes\n",
    "    + inserció d'imatge\n",
    "    + i aquesta llista\n",
    "+ Python:\n",
    "    + definir variables de diferents tipus\n",
    "    + prints\n",
    "    + bucle for\n",
    "    + input\n",
    "    + cast\n",
    "    + multiplicació\n",
    "    + string format"
   ]
  },
  {
   "cell_type": "markdown",
   "id": "e24b399b",
   "metadata": {},
   "source": [
    "# Nivell 2 - Exercici 1"
   ]
  },
  {
   "cell_type": "markdown",
   "id": "e53f8541",
   "metadata": {},
   "source": [
    "Per poder exportar el notebook a PDF, hem hagut d'instal·lar algunes coses, ja que donava un error respecte el path\n",
    "\n",
    ">Des de l'Anaconda prompt instal·lem el **nbconvert**:\n",
    "*conda install nbconvert*.\n",
    "\n",
    "> Descarreguem **MikTex** i l'instal·lem.\n",
    "Hem afegit el *path* a les *variables d'entorn*.\n",
    "\n",
    "> També ha fet falta descarregar i instal·lar **Pandoc**\n",
    "\n",
    "https://github.com/Elenotes/Jupyter_Markdown\n",
    "\n",
    "En aquest enllaç hi ha el **S02_T01.pdf** i el **S02_T01.html**\n"
   ]
  },
  {
   "cell_type": "markdown",
   "id": "15fbb072",
   "metadata": {},
   "source": [
    "# Nivell 3 - Exercici 1"
   ]
  },
  {
   "cell_type": "markdown",
   "id": "33ccc766",
   "metadata": {},
   "source": [
    "https://anaconda.org/conda-forge/jupyter_contrib_nbextensions\n",
    "\n",
    "En aquesta web ens indica que des d'*Anaconda.Navigator*, a la pestanya *Environments*, si anem al **channel conda-forge**, podem descarregar el **Nbextensions** \n",
    "    "
   ]
  },
  {
   "cell_type": "markdown",
   "id": "73cbc5e0",
   "metadata": {},
   "source": [
    "<img src = \"files/nbextensions.png\">"
   ]
  },
  {
   "cell_type": "code",
   "execution_count": null,
   "id": "86f603ed",
   "metadata": {},
   "outputs": [],
   "source": []
  }
 ],
 "metadata": {
  "kernelspec": {
   "display_name": "Python 3",
   "language": "python",
   "name": "python3"
  },
  "language_info": {
   "codemirror_mode": {
    "name": "ipython",
    "version": 3
   },
   "file_extension": ".py",
   "mimetype": "text/x-python",
   "name": "python",
   "nbconvert_exporter": "python",
   "pygments_lexer": "ipython3",
   "version": "3.8.8"
  }
 },
 "nbformat": 4,
 "nbformat_minor": 5
}
